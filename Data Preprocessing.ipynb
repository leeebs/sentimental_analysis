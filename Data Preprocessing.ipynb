{
 "cells": [
  {
   "cell_type": "markdown",
   "id": "3e418435",
   "metadata": {},
   "source": [
    "# 1. 라이브러리 불러오기"
   ]
  },
  {
   "cell_type": "code",
   "execution_count": 14,
   "id": "53364987",
   "metadata": {},
   "outputs": [
    {
     "ename": "ModuleNotFoundError",
     "evalue": "No module named 'selenium'",
     "output_type": "error",
     "traceback": [
      "\u001b[1;31m---------------------------------------------------------------------------\u001b[0m",
      "\u001b[1;31mModuleNotFoundError\u001b[0m                       Traceback (most recent call last)",
      "\u001b[1;32m<ipython-input-14-d8d06fd0edd3>\u001b[0m in \u001b[0;36m<module>\u001b[1;34m\u001b[0m\n\u001b[0;32m      1\u001b[0m \u001b[1;32mimport\u001b[0m \u001b[0mrequests\u001b[0m\u001b[1;33m\u001b[0m\u001b[1;33m\u001b[0m\u001b[0m\n\u001b[0;32m      2\u001b[0m \u001b[1;32mimport\u001b[0m \u001b[0mpandas\u001b[0m \u001b[1;32mas\u001b[0m \u001b[0mpd\u001b[0m\u001b[1;33m\u001b[0m\u001b[1;33m\u001b[0m\u001b[0m\n\u001b[1;32m----> 3\u001b[1;33m \u001b[1;32mfrom\u001b[0m \u001b[0mselenium\u001b[0m \u001b[1;32mimport\u001b[0m \u001b[0mwebdriver\u001b[0m\u001b[1;33m\u001b[0m\u001b[1;33m\u001b[0m\u001b[0m\n\u001b[0m\u001b[0;32m      4\u001b[0m \u001b[1;32mfrom\u001b[0m \u001b[0mselenium\u001b[0m\u001b[1;33m.\u001b[0m\u001b[0mwebdriver\u001b[0m\u001b[1;33m.\u001b[0m\u001b[0mcommon\u001b[0m\u001b[1;33m.\u001b[0m\u001b[0mkeys\u001b[0m \u001b[1;32mimport\u001b[0m \u001b[0mKeys\u001b[0m\u001b[1;33m\u001b[0m\u001b[1;33m\u001b[0m\u001b[0m\n\u001b[0;32m      5\u001b[0m \u001b[1;32mfrom\u001b[0m \u001b[0mselenium\u001b[0m\u001b[1;33m.\u001b[0m\u001b[0mcommon\u001b[0m\u001b[1;33m.\u001b[0m\u001b[0mexceptions\u001b[0m \u001b[1;32mimport\u001b[0m \u001b[0mNoSuchElementException\u001b[0m\u001b[1;33m\u001b[0m\u001b[1;33m\u001b[0m\u001b[0m\n",
      "\u001b[1;31mModuleNotFoundError\u001b[0m: No module named 'selenium'"
     ]
    }
   ],
   "source": [
    "import requests\n",
    "import pandas as pd\n",
    "from selenium import webdriver\n",
    "from selenium.webdriver.common.keys import Keys\n",
    "from selenium.common.exceptions import NoSuchElementException\n",
    "from selenium.common.exceptions import TimeoutException\n",
    "import time\n",
    "import re\n",
    "import csv \n",
    "import glob\n",
    "import numpy as np\n",
    "import os\n",
    "import matplotlib.pyplot as plt\n",
    "import matplotlib as mpl\n",
    "import matplotlib.font_manager as fm\n",
    "import seaborn as sns\n",
    "\n",
    "from bs4 import BeautifulSoup\n",
    "from tqdm import tqdm"
   ]
  },
  {
   "cell_type": "markdown",
   "id": "94dfc13d",
   "metadata": {},
   "source": [
    "# 2. 수집한 리뷰들 불러오기"
   ]
  },
  {
   "cell_type": "markdown",
   "id": "1121d042",
   "metadata": {},
   "source": [
    "## 2-(1) 블로그 리뷰 불러오기"
   ]
  },
  {
   "cell_type": "code",
   "execution_count": 3,
   "id": "2cbe8ab0",
   "metadata": {},
   "outputs": [],
   "source": [
    "#추출한 블로그 리뷰 csv파일 불러오기\n",
    "blog_review_list=pd.read_csv('place_blog_review.csv',encoding='utf-8')\n",
    "blog_review=blog_review_list[['num', 'name','blog or review','blog name','like_count_list','command_count_list','date_list','img_count','neighber_count','last_content_date','blog review content']]"
   ]
  },
  {
   "cell_type": "code",
   "execution_count": 4,
   "id": "46088aa2",
   "metadata": {},
   "outputs": [
    {
     "data": {
      "text/plain": [
       "(1584, 11)"
      ]
     },
     "execution_count": 4,
     "metadata": {},
     "output_type": "execute_result"
    }
   ],
   "source": [
    "blog_review.shape"
   ]
  },
  {
   "cell_type": "code",
   "execution_count": 5,
   "id": "db8e3bd5",
   "metadata": {},
   "outputs": [
    {
     "data": {
      "text/plain": [
       "num                    False\n",
       "name                   False\n",
       "blog or review         False\n",
       "blog name               True\n",
       "like_count_list        False\n",
       "command_count_list     False\n",
       "date_list              False\n",
       "img_count              False\n",
       "neighber_count         False\n",
       "last_content_date      False\n",
       "blog review content     True\n",
       "dtype: bool"
      ]
     },
     "execution_count": 5,
     "metadata": {},
     "output_type": "execute_result"
    }
   ],
   "source": [
    "#불러온 블로그 리뷰 중 결측값 확인\n",
    "blog_review.isnull().any()"
   ]
  },
  {
   "cell_type": "code",
   "execution_count": 6,
   "id": "a3faa772",
   "metadata": {},
   "outputs": [],
   "source": [
    "#불러온 블로그 리뷰 중 결측값이 있는 행 제거\n",
    "blog_review2=blog_review.dropna(axis=0)"
   ]
  },
  {
   "cell_type": "code",
   "execution_count": 7,
   "id": "45f2de0a",
   "metadata": {},
   "outputs": [
    {
     "data": {
      "text/plain": [
       "num                    False\n",
       "name                   False\n",
       "blog or review         False\n",
       "blog name              False\n",
       "like_count_list        False\n",
       "command_count_list     False\n",
       "date_list              False\n",
       "img_count              False\n",
       "neighber_count         False\n",
       "last_content_date      False\n",
       "blog review content    False\n",
       "dtype: bool"
      ]
     },
     "execution_count": 7,
     "metadata": {},
     "output_type": "execute_result"
    }
   ],
   "source": [
    "#블로그 리뷰 결측값 제거 완료\n",
    "blog_review2.isnull().any()"
   ]
  },
  {
   "cell_type": "code",
   "execution_count": 8,
   "id": "3e325b5d",
   "metadata": {},
   "outputs": [
    {
     "data": {
      "text/html": [
       "<div>\n",
       "<style scoped>\n",
       "    .dataframe tbody tr th:only-of-type {\n",
       "        vertical-align: middle;\n",
       "    }\n",
       "\n",
       "    .dataframe tbody tr th {\n",
       "        vertical-align: top;\n",
       "    }\n",
       "\n",
       "    .dataframe thead th {\n",
       "        text-align: right;\n",
       "    }\n",
       "</style>\n",
       "<table border=\"1\" class=\"dataframe\">\n",
       "  <thead>\n",
       "    <tr style=\"text-align: right;\">\n",
       "      <th></th>\n",
       "      <th>num</th>\n",
       "      <th>name</th>\n",
       "      <th>blog or review</th>\n",
       "      <th>blog name</th>\n",
       "      <th>like_count_list</th>\n",
       "      <th>command_count_list</th>\n",
       "      <th>date_list</th>\n",
       "      <th>img_count</th>\n",
       "      <th>neighber_count</th>\n",
       "      <th>last_content_date</th>\n",
       "      <th>blog review content</th>\n",
       "    </tr>\n",
       "  </thead>\n",
       "  <tbody>\n",
       "    <tr>\n",
       "      <th>0</th>\n",
       "      <td>1</td>\n",
       "      <td>배곧 또잇카페 배곧점</td>\n",
       "      <td>블로그 리뷰</td>\n",
       "      <td>TTOEATCAFE 배곧카페 뷰맛집!</td>\n",
       "      <td>5</td>\n",
       "      <td>6</td>\n",
       "      <td>2021. 8. 21. 13:36</td>\n",
       "      <td>21</td>\n",
       "      <td>1,071</td>\n",
       "      <td>2021-11-16</td>\n",
       "      <td>배곧 한울공원이 산책하기에 너무 좋은곳이라 자주 가요~오후시간에 산책하면 노을지는모...</td>\n",
       "    </tr>\n",
       "    <tr>\n",
       "      <th>1</th>\n",
       "      <td>2</td>\n",
       "      <td>배곧 또잇카페 배곧점</td>\n",
       "      <td>블로그 리뷰</td>\n",
       "      <td>배곧 한울공원 뷰 [또잇카페]</td>\n",
       "      <td>7</td>\n",
       "      <td>4</td>\n",
       "      <td>2021. 11. 14. 22:39</td>\n",
       "      <td>23</td>\n",
       "      <td>191</td>\n",
       "      <td>2021-11-14</td>\n",
       "      <td>안녕 여러분 ~~주말에 배곧 한울공원에 갔다가뷰맛집 , 케이쿠 맛집이라는또잇카페를 ...</td>\n",
       "    </tr>\n",
       "    <tr>\n",
       "      <th>2</th>\n",
       "      <td>3</td>\n",
       "      <td>배곧 또잇카페 배곧점</td>\n",
       "      <td>블로그 리뷰</td>\n",
       "      <td>배곧카페 TTOEATCAFE 또잇 : 배곧한울공원카페 / 배곧디저트</td>\n",
       "      <td>5</td>\n",
       "      <td>2</td>\n",
       "      <td>2021. 11. 15. 8:39</td>\n",
       "      <td>30</td>\n",
       "      <td>111</td>\n",
       "      <td>2021-11-15</td>\n",
       "      <td>주말에 다녀오기 딱 좋은 카페를 발견했다!생명공원과 한울공원 가까이에 있는 배곧디저...</td>\n",
       "    </tr>\n",
       "    <tr>\n",
       "      <th>3</th>\n",
       "      <td>4</td>\n",
       "      <td>배곧 또잇카페 배곧점</td>\n",
       "      <td>블로그 리뷰</td>\n",
       "      <td>시흥 배곧카페 또잇카페, 정왕동 신상 디저트 카페</td>\n",
       "      <td>22</td>\n",
       "      <td>18</td>\n",
       "      <td>2021. 11. 11. 22:01</td>\n",
       "      <td>22</td>\n",
       "      <td>547</td>\n",
       "      <td>2021-11-16</td>\n",
       "      <td>요즘 새로 생긴 신상 카페 투어중인 친구와 저는오랜만에 배곧에서 점심을 먹고 디저트...</td>\n",
       "    </tr>\n",
       "    <tr>\n",
       "      <th>4</th>\n",
       "      <td>5</td>\n",
       "      <td>배곧 또잇카페 배곧점</td>\n",
       "      <td>블로그 리뷰</td>\n",
       "      <td>시흥 배곧 카페 추천: 또잇카페</td>\n",
       "      <td>7</td>\n",
       "      <td>1</td>\n",
       "      <td>2021. 10. 26. 13:19</td>\n",
       "      <td>16</td>\n",
       "      <td>311</td>\n",
       "      <td>2021-11-16</td>\n",
       "      <td>시댁갔다 오빠랑 어머님이랑 셋이 방문한 배곧 카페오빠한테 폭풍잔소리한 덕분인지 예쁜...</td>\n",
       "    </tr>\n",
       "    <tr>\n",
       "      <th>...</th>\n",
       "      <td>...</td>\n",
       "      <td>...</td>\n",
       "      <td>...</td>\n",
       "      <td>...</td>\n",
       "      <td>...</td>\n",
       "      <td>...</td>\n",
       "      <td>...</td>\n",
       "      <td>...</td>\n",
       "      <td>...</td>\n",
       "      <td>...</td>\n",
       "      <td>...</td>\n",
       "    </tr>\n",
       "    <tr>\n",
       "      <th>1579</th>\n",
       "      <td>77</td>\n",
       "      <td>배곧 원조부안집 배곧점</td>\n",
       "      <td>블로그 리뷰</td>\n",
       "      <td>배곧 맛집 원조부안집 배곧점</td>\n",
       "      <td>1</td>\n",
       "      <td>2</td>\n",
       "      <td>2021. 1. 5. 16:59</td>\n",
       "      <td>6</td>\n",
       "      <td>2</td>\n",
       "      <td>2021-2-2</td>\n",
       "      <td>배곧 맛집 원조부안집 배곧점#배곧맛집, #배곧고기집, #배곧고깃집, #배곧삼겹살, ...</td>\n",
       "    </tr>\n",
       "    <tr>\n",
       "      <th>1580</th>\n",
       "      <td>78</td>\n",
       "      <td>배곧 원조부안집 배곧점</td>\n",
       "      <td>블로그 리뷰</td>\n",
       "      <td>시흥맛집 *원조부안집 배곧점*</td>\n",
       "      <td>1</td>\n",
       "      <td>1</td>\n",
       "      <td>2020. 8. 16. 20:05</td>\n",
       "      <td>9</td>\n",
       "      <td>11</td>\n",
       "      <td>2021-10-24</td>\n",
       "      <td>원조부안집 배곧점 고고https://vo.la/yNXQ오늘은 시흥맛집 원조부안집 배...</td>\n",
       "    </tr>\n",
       "    <tr>\n",
       "      <th>1581</th>\n",
       "      <td>79</td>\n",
       "      <td>배곧 원조부안집 배곧점</td>\n",
       "      <td>블로그 리뷰</td>\n",
       "      <td>[시흥 맛집] 부안오득살이 끝내주는 '원조부안집 배곧점'</td>\n",
       "      <td>2</td>\n",
       "      <td>2</td>\n",
       "      <td>2020. 6. 30. 21:10</td>\n",
       "      <td>6</td>\n",
       "      <td>36</td>\n",
       "      <td>2021-6-3</td>\n",
       "      <td>안녕하세요:D은별이 입니다!!이번 포스팅에서는 시흥 맛집'원조부안집 배곧점'을 소개...</td>\n",
       "    </tr>\n",
       "    <tr>\n",
       "      <th>1582</th>\n",
       "      <td>80</td>\n",
       "      <td>배곧 원조부안집 배곧점</td>\n",
       "      <td>블로그 리뷰</td>\n",
       "      <td>원조 부안 집 배곧점, 시흥 맛집제목없음</td>\n",
       "      <td>4</td>\n",
       "      <td>2</td>\n",
       "      <td>2020. 8. 14. 15:18</td>\n",
       "      <td>6</td>\n",
       "      <td>180</td>\n",
       "      <td>2021-10-31</td>\n",
       "      <td>안녕하세요!!반갑습니다!!네이버 불러 그  지 산입니다!!오랜 장마에 혹우 경보로 ...</td>\n",
       "    </tr>\n",
       "    <tr>\n",
       "      <th>1583</th>\n",
       "      <td>81</td>\n",
       "      <td>배곧 원조부안집 배곧점</td>\n",
       "      <td>블로그 리뷰</td>\n",
       "      <td>배곧 고기집 극찬할만하네</td>\n",
       "      <td>3</td>\n",
       "      <td>0</td>\n",
       "      <td>2021. 6. 17. 18:33</td>\n",
       "      <td>27</td>\n",
       "      <td>66</td>\n",
       "      <td>2021-6-25</td>\n",
       "      <td>배곧 고기집에서 친구들이랑 고기를 먹었는데 확실히 여기가 요즘 sns에서 유명한 곳...</td>\n",
       "    </tr>\n",
       "  </tbody>\n",
       "</table>\n",
       "<p>1554 rows × 11 columns</p>\n",
       "</div>"
      ],
      "text/plain": [
       "      num          name blog or review                              blog name  \\\n",
       "0       1   배곧 또잇카페 배곧점         블로그 리뷰                   TTOEATCAFE 배곧카페 뷰맛집!   \n",
       "1       2   배곧 또잇카페 배곧점         블로그 리뷰                      배곧 한울공원 뷰 [또잇카페]    \n",
       "2       3   배곧 또잇카페 배곧점         블로그 리뷰  배곧카페 TTOEATCAFE 또잇 : 배곧한울공원카페 / 배곧디저트   \n",
       "3       4   배곧 또잇카페 배곧점         블로그 리뷰            시흥 배곧카페 또잇카페, 정왕동 신상 디저트 카페   \n",
       "4       5   배곧 또잇카페 배곧점         블로그 리뷰                      시흥 배곧 카페 추천: 또잇카페   \n",
       "...   ...           ...            ...                                    ...   \n",
       "1579   77  배곧 원조부안집 배곧점         블로그 리뷰                        배곧 맛집 원조부안집 배곧점   \n",
       "1580   78  배곧 원조부안집 배곧점         블로그 리뷰                       시흥맛집 *원조부안집 배곧점*   \n",
       "1581   79  배곧 원조부안집 배곧점         블로그 리뷰        [시흥 맛집] 부안오득살이 끝내주는 '원조부안집 배곧점'   \n",
       "1582   80  배곧 원조부안집 배곧점         블로그 리뷰                 원조 부안 집 배곧점, 시흥 맛집제목없음   \n",
       "1583   81  배곧 원조부안집 배곧점         블로그 리뷰                          배곧 고기집 극찬할만하네   \n",
       "\n",
       "     like_count_list  command_count_list            date_list  img_count  \\\n",
       "0                  5                   6   2021. 8. 21. 13:36         21   \n",
       "1                  7                   4  2021. 11. 14. 22:39         23   \n",
       "2                  5                   2   2021. 11. 15. 8:39         30   \n",
       "3                 22                  18  2021. 11. 11. 22:01         22   \n",
       "4                  7                   1  2021. 10. 26. 13:19         16   \n",
       "...              ...                 ...                  ...        ...   \n",
       "1579               1                   2    2021. 1. 5. 16:59          6   \n",
       "1580               1                   1   2020. 8. 16. 20:05          9   \n",
       "1581               2                   2   2020. 6. 30. 21:10          6   \n",
       "1582               4                   2   2020. 8. 14. 15:18          6   \n",
       "1583               3                   0   2021. 6. 17. 18:33         27   \n",
       "\n",
       "     neighber_count last_content_date  \\\n",
       "0             1,071        2021-11-16   \n",
       "1               191        2021-11-14   \n",
       "2               111        2021-11-15   \n",
       "3               547        2021-11-16   \n",
       "4               311        2021-11-16   \n",
       "...             ...               ...   \n",
       "1579              2          2021-2-2   \n",
       "1580             11        2021-10-24   \n",
       "1581             36          2021-6-3   \n",
       "1582            180        2021-10-31   \n",
       "1583             66         2021-6-25   \n",
       "\n",
       "                                    blog review content  \n",
       "0     배곧 한울공원이 산책하기에 너무 좋은곳이라 자주 가요~오후시간에 산책하면 노을지는모...  \n",
       "1     안녕 여러분 ~~주말에 배곧 한울공원에 갔다가뷰맛집 , 케이쿠 맛집이라는또잇카페를 ...  \n",
       "2     주말에 다녀오기 딱 좋은 카페를 발견했다!생명공원과 한울공원 가까이에 있는 배곧디저...  \n",
       "3     요즘 새로 생긴 신상 카페 투어중인 친구와 저는오랜만에 배곧에서 점심을 먹고 디저트...  \n",
       "4     시댁갔다 오빠랑 어머님이랑 셋이 방문한 배곧 카페오빠한테 폭풍잔소리한 덕분인지 예쁜...  \n",
       "...                                                 ...  \n",
       "1579  배곧 맛집 원조부안집 배곧점#배곧맛집, #배곧고기집, #배곧고깃집, #배곧삼겹살, ...  \n",
       "1580  원조부안집 배곧점 고고https://vo.la/yNXQ오늘은 시흥맛집 원조부안집 배...  \n",
       "1581  안녕하세요:D은별이 입니다!!이번 포스팅에서는 시흥 맛집'원조부안집 배곧점'을 소개...  \n",
       "1582  안녕하세요!!반갑습니다!!네이버 불러 그  지 산입니다!!오랜 장마에 혹우 경보로 ...  \n",
       "1583  배곧 고기집에서 친구들이랑 고기를 먹었는데 확실히 여기가 요즘 sns에서 유명한 곳...  \n",
       "\n",
       "[1554 rows x 11 columns]"
      ]
     },
     "execution_count": 8,
     "metadata": {},
     "output_type": "execute_result"
    }
   ],
   "source": [
    "blog_review2"
   ]
  },
  {
   "cell_type": "markdown",
   "id": "c153555c",
   "metadata": {},
   "source": [
    "## 2-(2) 방문자 리뷰 불러오기"
   ]
  },
  {
   "cell_type": "code",
   "execution_count": 9,
   "id": "f93482b2",
   "metadata": {},
   "outputs": [],
   "source": [
    "#추출한 방문자리뷰 csv파일 불러오기\n",
    "visitor_review_list=pd.read_csv('place_visitor_review.csv',encoding='utf-8')\n",
    "visitor_review=visitor_review_list[['num','name','blog or review','visitor review content']]"
   ]
  },
  {
   "cell_type": "code",
   "execution_count": 10,
   "id": "90bb7a51",
   "metadata": {},
   "outputs": [
    {
     "data": {
      "text/plain": [
       "num                       False\n",
       "name                      False\n",
       "blog or review            False\n",
       "visitor review content     True\n",
       "dtype: bool"
      ]
     },
     "execution_count": 10,
     "metadata": {},
     "output_type": "execute_result"
    }
   ],
   "source": [
    "#불러온 방문자 리뷰 중 결측값 확인\n",
    "visitor_review.isnull().any()"
   ]
  },
  {
   "cell_type": "code",
   "execution_count": 11,
   "id": "a462561b",
   "metadata": {},
   "outputs": [],
   "source": [
    "#불러온 방문자 리뷰 중 결측값이 있는 행 제거\n",
    "visitor_review2=visitor_review.dropna(axis=0)"
   ]
  },
  {
   "cell_type": "code",
   "execution_count": 12,
   "id": "914bbafc",
   "metadata": {},
   "outputs": [
    {
     "data": {
      "text/plain": [
       "num                       False\n",
       "name                      False\n",
       "blog or review            False\n",
       "visitor review content    False\n",
       "dtype: bool"
      ]
     },
     "execution_count": 12,
     "metadata": {},
     "output_type": "execute_result"
    }
   ],
   "source": [
    "#방문자 리뷰 결측값 제거 완료\n",
    "visitor_review2.isnull().any()"
   ]
  },
  {
   "cell_type": "code",
   "execution_count": 13,
   "id": "52a38fb0",
   "metadata": {},
   "outputs": [
    {
     "data": {
      "text/html": [
       "<div>\n",
       "<style scoped>\n",
       "    .dataframe tbody tr th:only-of-type {\n",
       "        vertical-align: middle;\n",
       "    }\n",
       "\n",
       "    .dataframe tbody tr th {\n",
       "        vertical-align: top;\n",
       "    }\n",
       "\n",
       "    .dataframe thead th {\n",
       "        text-align: right;\n",
       "    }\n",
       "</style>\n",
       "<table border=\"1\" class=\"dataframe\">\n",
       "  <thead>\n",
       "    <tr style=\"text-align: right;\">\n",
       "      <th></th>\n",
       "      <th>num</th>\n",
       "      <th>name</th>\n",
       "      <th>blog or review</th>\n",
       "      <th>visitor review content</th>\n",
       "    </tr>\n",
       "  </thead>\n",
       "  <tbody>\n",
       "    <tr>\n",
       "      <th>0</th>\n",
       "      <td>1</td>\n",
       "      <td>배곧 또잇카페 배곧점</td>\n",
       "      <td>방문자 리뷰</td>\n",
       "      <td>굿</td>\n",
       "    </tr>\n",
       "    <tr>\n",
       "      <th>1</th>\n",
       "      <td>2</td>\n",
       "      <td>배곧 또잇카페 배곧점</td>\n",
       "      <td>방문자 리뷰</td>\n",
       "      <td>좋아요</td>\n",
       "    </tr>\n",
       "    <tr>\n",
       "      <th>2</th>\n",
       "      <td>3</td>\n",
       "      <td>배곧 또잇카페 배곧점</td>\n",
       "      <td>방문자 리뷰</td>\n",
       "      <td>조아요</td>\n",
       "    </tr>\n",
       "    <tr>\n",
       "      <th>3</th>\n",
       "      <td>4</td>\n",
       "      <td>배곧 또잇카페 배곧점</td>\n",
       "      <td>방문자 리뷰</td>\n",
       "      <td>굿</td>\n",
       "    </tr>\n",
       "    <tr>\n",
       "      <th>4</th>\n",
       "      <td>5</td>\n",
       "      <td>배곧 또잇카페 배곧점</td>\n",
       "      <td>방문자 리뷰</td>\n",
       "      <td>바다공원 앞에 위치해서 편하고 좋아요!^^ 공원에서 운동하고 아메리카노 급땡겨서 또...</td>\n",
       "    </tr>\n",
       "    <tr>\n",
       "      <th>...</th>\n",
       "      <td>...</td>\n",
       "      <td>...</td>\n",
       "      <td>...</td>\n",
       "      <td>...</td>\n",
       "    </tr>\n",
       "    <tr>\n",
       "      <th>14006</th>\n",
       "      <td>14</td>\n",
       "      <td>배곧 카페바이마스</td>\n",
       "      <td>방문자 리뷰</td>\n",
       "      <td>밀크티는 정말 진리네요👍</td>\n",
       "    </tr>\n",
       "    <tr>\n",
       "      <th>14007</th>\n",
       "      <td>15</td>\n",
       "      <td>배곧 카페바이마스</td>\n",
       "      <td>방문자 리뷰</td>\n",
       "      <td>원두 선택할 수 있어서 좋아요.디카페인이 있는것도 별 5개⭐️</td>\n",
       "    </tr>\n",
       "    <tr>\n",
       "      <th>14008</th>\n",
       "      <td>16</td>\n",
       "      <td>배곧 카페바이마스</td>\n",
       "      <td>방문자 리뷰</td>\n",
       "      <td>음료 다 맛있어요 배곧 커피맛집이에요</td>\n",
       "    </tr>\n",
       "    <tr>\n",
       "      <th>14009</th>\n",
       "      <td>17</td>\n",
       "      <td>배곧 카페바이마스</td>\n",
       "      <td>방문자 리뷰</td>\n",
       "      <td>커피맛있어요</td>\n",
       "    </tr>\n",
       "    <tr>\n",
       "      <th>14010</th>\n",
       "      <td>18</td>\n",
       "      <td>배곧 카페바이마스</td>\n",
       "      <td>방문자 리뷰</td>\n",
       "      <td>원두 선택할 수 있어서 좋아요 \\r\\n디카페인도 먹을 수 있다고 하더라구요 굿</td>\n",
       "    </tr>\n",
       "  </tbody>\n",
       "</table>\n",
       "<p>14006 rows × 4 columns</p>\n",
       "</div>"
      ],
      "text/plain": [
       "       num         name blog or review  \\\n",
       "0        1  배곧 또잇카페 배곧점         방문자 리뷰   \n",
       "1        2  배곧 또잇카페 배곧점         방문자 리뷰   \n",
       "2        3  배곧 또잇카페 배곧점         방문자 리뷰   \n",
       "3        4  배곧 또잇카페 배곧점         방문자 리뷰   \n",
       "4        5  배곧 또잇카페 배곧점         방문자 리뷰   \n",
       "...    ...          ...            ...   \n",
       "14006   14    배곧 카페바이마스         방문자 리뷰   \n",
       "14007   15    배곧 카페바이마스         방문자 리뷰   \n",
       "14008   16    배곧 카페바이마스         방문자 리뷰   \n",
       "14009   17    배곧 카페바이마스         방문자 리뷰   \n",
       "14010   18    배곧 카페바이마스         방문자 리뷰   \n",
       "\n",
       "                                  visitor review content  \n",
       "0                                                      굿  \n",
       "1                                                    좋아요  \n",
       "2                                                    조아요  \n",
       "3                                                      굿  \n",
       "4      바다공원 앞에 위치해서 편하고 좋아요!^^ 공원에서 운동하고 아메리카노 급땡겨서 또...  \n",
       "...                                                  ...  \n",
       "14006                                      밀크티는 정말 진리네요👍  \n",
       "14007                 원두 선택할 수 있어서 좋아요.디카페인이 있는것도 별 5개⭐️  \n",
       "14008                               음료 다 맛있어요 배곧 커피맛집이에요  \n",
       "14009                                             커피맛있어요  \n",
       "14010        원두 선택할 수 있어서 좋아요 \\r\\n디카페인도 먹을 수 있다고 하더라구요 굿  \n",
       "\n",
       "[14006 rows x 4 columns]"
      ]
     },
     "execution_count": 13,
     "metadata": {},
     "output_type": "execute_result"
    }
   ],
   "source": [
    "visitor_review2"
   ]
  },
  {
   "cell_type": "markdown",
   "id": "df604b0b",
   "metadata": {},
   "source": [
    "# 3. 전처리(특수문자, 띄어쓰기, 불용어 제거 등)"
   ]
  },
  {
   "cell_type": "markdown",
   "id": "7b8f9c5f",
   "metadata": {},
   "source": [
    "## 3-(1) 전처리 라이브러리 호출"
   ]
  },
  {
   "cell_type": "code",
   "execution_count": 1,
   "id": "28a959ef",
   "metadata": {},
   "outputs": [],
   "source": [
    "#전처리를 하기 위해 필요한 라이브러리 호출\n",
    "import os\n",
    "import sys\n",
    "import re\n",
    "import konlpy\n",
    "import pandas as pd\n",
    "from konlpy.tag import Kkma\n",
    "from konlpy.tag import Okt\n",
    "#import soynlp\n",
    "import kss\n",
    "from pykospacing import Spacing\n",
    "from tqdm import tqdm\n",
    "import time\n",
    "\n",
    "kkma = Kkma()\n",
    "okt = Okt()\n",
    "spacing = Spacing()"
   ]
  },
  {
   "cell_type": "markdown",
   "id": "2715c431",
   "metadata": {},
   "source": [
    "## 3-(2) 기본 전처리"
   ]
  },
  {
   "cell_type": "code",
   "execution_count": 78,
   "id": "21b9f821",
   "metadata": {},
   "outputs": [],
   "source": [
    "corpus = []\n",
    "def normalization(cr_review):\n",
    "    for i in tqdm(range(0, len(cr_review)), desc='전처리 진행율'):\n",
    "        review = re.sub('\\n','', str(cr_review[i]))\n",
    "        # 기본 전처리\n",
    "        review = re.sub('\\u200b','',review) # 폭 없는 공백 제거\n",
    "        review = re.sub('\\xa0','',review) # Latin1 (ISO 8859-1)비 공백 공간 제거\n",
    "        review = re.sub(r'[@%\\\\*=()/~#&\\+á?\\xc3\\xa1\\-\\|\\.\\;\\!\\-\\,\\_\\~\\$\\'\\\"\\:]', '',review) # 여러 기호 제거\n",
    "        review = re.sub(r'[^가-힣-\\s0-9]', '', review) # 한글과 숫자만 살리고 제거\n",
    "        review = re.sub(r'\\s+', ' ', review) # 다중 공백 제거\n",
    "        review = re.sub(r'^\\s+', '', review) # 시작 공백 제거\n",
    "        # 표현 및 문법 전처리\n",
    "        review = re.sub('라구요|라구여|라구용|라고염|라고여|라고용', '라고요', review)\n",
    "        review = re.sub('어용|어염|어여', '어요', review)\n",
    "        review = re.sub('봐용|봐염|봐여', '봐요', review)\n",
    "        review = re.sub('게용|게염|게여', '게요', review)\n",
    "        review = re.sub('했당', '했다', review)\n",
    "        review = re.sub('았당', '았다', review)\n",
    "        review = re.sub('에용|에염|에여|예염', '에요', review)\n",
    "        review = re.sub('세용|세염|세여', '세요', review)\n",
    "        review = re.sub('께용|께염|께여|께유', '께요', review)\n",
    "        review = re.sub('해용|해염|해여|해유', '해요', review)\n",
    "        review = re.sub('네용|네염|네여|네유', '네요', review)\n",
    "        review = re.sub('아용|아염|아여', '아요', review)\n",
    "        review = re.sub('니당', '니다', review)\n",
    "        review = re.sub('괜춘', '괜찮네요', review)\n",
    "        review = re.sub('이뻐', '예뻐', review)\n",
    "        review = re.sub('이쁘', '예쁘', review)\n",
    "        review = re.sub('이쁜', '예쁜', review)\n",
    "        review = re.sub('고기집', '고깃집', review)\n",
    "        review = re.sub('같아용|같아염|같아여', '같아요', review)\n",
    "        review = re.sub('같네용|같네염|같네여', '같네요', review)\n",
    "        review = re.sub('이구용', '이구요', review)\n",
    "        review = re.sub('었 따', '었다', review)\n",
    "        # 띄어쓰기\n",
    "        review = spacing(review)\n",
    "        # 띄어쓰기 전처리\n",
    "        review = re.sub('니\\s다', '니다', review)\n",
    "        review = re.sub('라\\s고요|라고\\s요', '라고요', review)\n",
    "        review = re.sub('배\\s곧', '배곧', review)\n",
    "        review = re.sub('또\\s잇', '또잇', review)\n",
    "        review = re.sub('와\\s규', '와규', review)\n",
    "        review = re.sub('에\\s비야', '에비야', review)\n",
    "        #문장 분절\n",
    "        review = kss.split_sentences(review) \n",
    "\n",
    "        for i in range(len(review)):\n",
    "            sr = ''\n",
    "            sr += review[i]+'.'\n",
    "            sr = re.sub(r'[^가-힣-\\s0-9\\.]', '', sr)\n",
    "            corpus.append(sr)\n",
    "            \n",
    "        \n",
    "    return corpus"
   ]
  },
  {
   "cell_type": "markdown",
   "id": "37049c8f",
   "metadata": {},
   "source": [
    "## 3-(1) 블로그 리뷰 전처리 및 csv파일 형태로 저장"
   ]
  },
  {
   "cell_type": "code",
   "execution_count": 39,
   "id": "aa548c87",
   "metadata": {},
   "outputs": [],
   "source": [
    "def convert_blog_review(df):\n",
    "    df.dropna(inplace = True) # 결측치가 있는 행 제거\n",
    "    df.reset_index(inplace = True) # 인덱스 초기화\n",
    "    blog_review = df['blog review content'] # 블로그 리뷰를 리스트로 꺼내서\n",
    "    corpus = normalization(blog_review) # 블로그 리뷰 정규화 및 띄어쓰기 문장 분절\n",
    "    df.insert(11, 'blog review', corpus) # 11번째 행에 전처리된 블로그 리뷰 삽입\n",
    "    df.drop(['blog review content', 'index'], axis=1, inplace=True) #기존 리뷰 행 삭제\n",
    "    df.to_csv('processed_place_blog_review1.csv', encoding='utf-8-sig') # csv 파일로 저장"
   ]
  },
  {
   "cell_type": "code",
   "execution_count": 40,
   "id": "4f518abf",
   "metadata": {
    "collapsed": true
   },
   "outputs": [
    {
     "ename": "NameError",
     "evalue": "name 'blog_review2' is not defined",
     "output_type": "error",
     "traceback": [
      "\u001b[1;31m---------------------------------------------------------------------------\u001b[0m",
      "\u001b[1;31mNameError\u001b[0m                                 Traceback (most recent call last)",
      "\u001b[1;32m<ipython-input-40-9146de7c0672>\u001b[0m in \u001b[0;36m<module>\u001b[1;34m\u001b[0m\n\u001b[1;32m----> 1\u001b[1;33m \u001b[0mconvert_blog_review\u001b[0m\u001b[1;33m(\u001b[0m\u001b[0mblog_review2\u001b[0m\u001b[1;33m)\u001b[0m\u001b[1;33m\u001b[0m\u001b[1;33m\u001b[0m\u001b[0m\n\u001b[0m",
      "\u001b[1;31mNameError\u001b[0m: name 'blog_review2' is not defined"
     ]
    }
   ],
   "source": [
    "convert_blog_review(blog_review2)"
   ]
  },
  {
   "cell_type": "markdown",
   "id": "05773b9f",
   "metadata": {},
   "source": [
    "## 3-(3) 네이버 플레이스 방문자 리뷰 전처리"
   ]
  },
  {
   "cell_type": "code",
   "execution_count": 80,
   "id": "a2fd59b4",
   "metadata": {},
   "outputs": [],
   "source": [
    "def convert_place_review(df):\n",
    "    df.dropna(inplace=True) # 데이터프레임 결측값 제거\n",
    "    df.reset_index(inplace=True) # 데이터 프레임 인덱스 초기화\n",
    "    visitor_review = df['visitor review content'] # 플레이스 리뷰를 리스트로 꺼내서\n",
    "    corpus = normalization(visitor_review) # 플레이스 리뷰 정규화 및 띄어쓰기 문장 분절\n",
    "    df.insert(4, 'visitor review',  corpus) # 4번째 행에 전처리된 플레이스 리뷰 삽입\n",
    "    df.dropna(inplace=True) # 정규화를 하면 플레이스 리뷰의 경우 이모티콘만 있는 경우에 결측값이 되기 때문에 한번 더 결측값 제거\n",
    "    df.drop(['visitor review content', 'index'], axis=1, inplace=True) # 기존 리뷰 행 삭제\n",
    "    df.to_csv('processed_place_visitor_review1.csv', encoding='utf-8-sig')"
   ]
  },
  {
   "cell_type": "code",
   "execution_count": 81,
   "id": "d701fa16",
   "metadata": {},
   "outputs": [],
   "source": [
    "df = pd.read_csv('place_visitor_review.csv')"
   ]
  },
  {
   "cell_type": "code",
   "execution_count": 17,
   "id": "56a26ead",
   "metadata": {
    "scrolled": false
   },
   "outputs": [
    {
     "name": "stderr",
     "output_type": "stream",
     "text": [
      "전처리 진행율:   0%|                                                                         | 0/14006 [00:00<?, ?it/s][Korean Sentence Splitter]: Initializing Pynori...\n",
      "전처리 진행율: 100%|███████████████████████████████████████████████████████████| 14006/14006 [1:43:59<00:00,  2.24it/s]\n"
     ]
    }
   ],
   "source": [
    "convert_place_review(df)"
   ]
  }
 ],
 "metadata": {
  "kernelspec": {
   "display_name": "Python 3 (ipykernel)",
   "language": "python",
   "name": "python3"
  },
  "language_info": {
   "codemirror_mode": {
    "name": "ipython",
    "version": 3
   },
   "file_extension": ".py",
   "mimetype": "text/x-python",
   "name": "python",
   "nbconvert_exporter": "python",
   "pygments_lexer": "ipython3",
   "version": "3.8.11"
  }
 },
 "nbformat": 4,
 "nbformat_minor": 5
}
